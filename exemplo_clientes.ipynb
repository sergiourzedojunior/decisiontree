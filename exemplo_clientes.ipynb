{
 "cells": [
  {
   "cell_type": "code",
   "execution_count": 1,
   "metadata": {},
   "outputs": [],
   "source": [
    "# Importação das bibliotecas necessárias\n",
    "from sklearn.tree import DecisionTreeClassifier, export_graphviz\n",
    "from sklearn.model_selection import train_test_split\n",
    "from sklearn import metrics\n",
    "import numpy as np\n",
    "import pandas as pd\n",
    "from IPython.display import Image\n",
    "from sklearn.datasets import load_iris\n",
    "import pydot\n",
    "import graphviz\n",
    "from ipywidgets import interactive\n",
    "from IPython.display import SVG,display\n",
    "from graphviz import Source   \n",
    "from mlxtend.plotting import plot_decision_regions\n",
    "import matplotlib.pyplot as plt\n"
   ]
  },
  {
   "cell_type": "code",
   "execution_count": 2,
   "metadata": {},
   "outputs": [
    {
     "name": "stdout",
     "output_type": "stream",
     "text": [
      "10000 10000 10000 10000 10000 10000 10000 10000\n"
     ]
    }
   ],
   "source": [
    "\n",
    "# Criando dados aleatórios\n",
    "np.random.seed(42)  # Para tornar os resultados reproduzíveis\n",
    "idades = np.random.randint(18, 70, 10000)\n",
    "rendas = np.random.randint(30000, 100000, 10000)\n",
    "tipos_plano = np.random.choice(['A', 'B', 'C'], size=10000)\n",
    "segmentos = np.random.choice(['Jovem', 'Média Idade'], size=10000)\n",
    "cidades = np.random.choice(['São Paulo', 'Rio de Janeiro', 'Belo Horizonte', 'Porto Alegre', 'Salvador'], size=10000)\n",
    "escolaridade = np.random.choice(['Ensino Médio', 'Graduação', 'Pós-Graduação', 'Mestrado', 'Doutorado'], size=10000)\n",
    "profissoes = np.random.choice(['Engenheiro', 'Médico', 'Professor', 'Advogado', 'Programador'], size=10000)\n",
    "sexo = np.random.choice(['Masculino', 'Feminino'], size=10000)\n",
    "\n",
    "# Criando o DataFrame\n",
    "clientes = pd.DataFrame({\n",
    "    'Idade': idades,\n",
    "    'Renda': rendas,\n",
    "    'Tipo_Plano': tipos_plano,\n",
    "    'Segmento': segmentos,\n",
    "    'Cidade': cidades,\n",
    "    'Escolaridade': escolaridade,\n",
    "    'Profissão': profissoes,\n",
    "    'Sexo': sexo\n",
    "})\n",
    "\n",
    "# Verificando os tamanhos dos arrays\n",
    "print(len(idades), len(rendas), len(tipos_plano), len(segmentos), len(cidades), len(escolaridade), len(profissoes), len(sexo))\n"
   ]
  },
  {
   "cell_type": "code",
   "execution_count": null,
   "metadata": {},
   "outputs": [],
   "source": [
    "# Dividindo os dados em features (X) e target (y)\n",
    "X = clientes.drop(columns=['Tipo_Plano'])\n",
    "y = clientes['Tipo_Plano']"
   ]
  },
  {
   "cell_type": "code",
   "execution_count": null,
   "metadata": {},
   "outputs": [],
   "source": [
    "# Convertendo variáveis categóricas em numéricas\n",
    "X = pd.get_dummies(X)"
   ]
  },
  {
   "cell_type": "code",
   "execution_count": null,
   "metadata": {},
   "outputs": [],
   "source": [
    "# Dividindo os dados em treino e teste\n",
    "X_train, X_test, y_train, y_test = train_test_split(X, y, test_size=0.3, random_state=42)"
   ]
  },
  {
   "cell_type": "code",
   "execution_count": null,
   "metadata": {},
   "outputs": [],
   "source": [
    "# Instanciando o objeto classificador\n",
    "clf = DecisionTreeClassifier()\n",
    "\n",
    "# Treinando o modelo de árvore de decisão\n",
    "clf = clf.fit(X_train, y_train)"
   ]
  },
  {
   "cell_type": "code",
   "execution_count": null,
   "metadata": {},
   "outputs": [],
   "source": [
    "# Verificando as features mais importantes para o modelo de árvore de decisão treinado\n",
    "feature_importance = clf.feature_importances_\n",
    "for feature, importance in zip(X.columns, feature_importance):\n",
    "    print(\"{}:{}\".format(feature, importance))"
   ]
  },
  {
   "cell_type": "code",
   "execution_count": null,
   "metadata": {},
   "outputs": [],
   "source": [
    "# Executando o algoritmo de árvore de decisão com o conjunto de teste\n",
    "resultado = clf.predict(X_test)"
   ]
  },
  {
   "cell_type": "code",
   "execution_count": null,
   "metadata": {},
   "outputs": [],
   "source": [
    "resultado"
   ]
  },
  {
   "cell_type": "code",
   "execution_count": null,
   "metadata": {},
   "outputs": [],
   "source": [
    "# Testando com uma nova amostra\n",
    "nova_amostra = np.array([[25, 50000, 1, 0, 1, 0]])\n",
    "nova_amostra = nova_amostra[:, :4]  # Drop the extra columns\n",
    "resultado_nova_amostra = clf.predict(nova_amostra)\n",
    "probabilidade_nova_amostra = clf.predict_proba(nova_amostra)"
   ]
  },
  {
   "cell_type": "code",
   "execution_count": null,
   "metadata": {},
   "outputs": [],
   "source": [
    "probabilidade_nova_amostra"
   ]
  },
  {
   "cell_type": "code",
   "execution_count": null,
   "metadata": {},
   "outputs": [],
   "source": [
    "# Métricas de Validação\n",
    "print(metrics.classification_report(y_test, resultado))"
   ]
  },
  {
   "cell_type": "code",
   "execution_count": null,
   "metadata": {},
   "outputs": [],
   "source": [
    "# Visualizando a árvore de decisão\n",
    "#dot_data = export_graphviz(clf, out_file=None, feature_names=X.columns, class_names=clf.classes_, filled=True, rounded=True, special_characters=True)\n",
    "#graph = graphviz.Source(dot_data)\n",
    "#graph"
   ]
  },
  {
   "cell_type": "code",
   "execution_count": null,
   "metadata": {},
   "outputs": [],
   "source": [
    "\n",
    "# Visualizando as fronteiras criadas pela árvore\n",
    "def visualize_fronteiras(msamples_split):\n",
    "    clf = DecisionTreeClassifier(min_samples_split=msamples_split)\n",
    "    tree = clf.fit(X.values[:, :2], y)\n",
    "\n",
    "    plt.figure(figsize=(8,5))\n",
    "    plot_decision_regions(X.values[:, :2], y.values, clf=tree, legend=2)\n",
    "\n",
    "    plt.xlabel('Idade')\n",
    "    plt.ylabel('Renda')\n",
    "    plt.title('Decision Tree on Customer Data')\n",
    "    plt.show()\n"
   ]
  },
  {
   "cell_type": "code",
   "execution_count": null,
   "metadata": {},
   "outputs": [],
   "source": [
    "\n",
    "y = y.map({'A': 0, 'B': 1, 'C': 2}).astype(int)\n"
   ]
  },
  {
   "cell_type": "code",
   "execution_count": null,
   "metadata": {},
   "outputs": [],
   "source": [
    "\n",
    "visualize_fronteiras(2)\n"
   ]
  },
  {
   "cell_type": "code",
   "execution_count": null,
   "metadata": {},
   "outputs": [],
   "source": [
    "visualize_fronteiras(10)"
   ]
  },
  {
   "cell_type": "code",
   "execution_count": null,
   "metadata": {},
   "outputs": [],
   "source": [
    "visualize_fronteiras(20)"
   ]
  }
 ],
 "metadata": {
  "kernelspec": {
   "display_name": "base",
   "language": "python",
   "name": "python3"
  },
  "language_info": {
   "codemirror_mode": {
    "name": "ipython",
    "version": 3
   },
   "file_extension": ".py",
   "mimetype": "text/x-python",
   "name": "python",
   "nbconvert_exporter": "python",
   "pygments_lexer": "ipython3",
   "version": "3.9.7"
  }
 },
 "nbformat": 4,
 "nbformat_minor": 2
}
